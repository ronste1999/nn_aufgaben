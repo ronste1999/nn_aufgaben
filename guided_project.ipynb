{
 "cells": [
  {
   "cell_type": "code",
   "execution_count": 96,
   "metadata": {},
   "outputs": [],
   "source": [
    "from sklearn.datasets import load_digits\n",
    "import pandas as pd\n",
    "import numpy as np\n",
    "from sklearn.neighbors import KNeighborsClassifier\n",
    "from sklearn.model_selection import KFold\n",
    "from sklearn.neural_network import MLPClassifier\n",
    "from sklearn.ensemble import RandomForestRegressor\n",
    "import matplotlib.pyplot as plt"
   ]
  },
  {
   "cell_type": "code",
   "execution_count": 97,
   "metadata": {},
   "outputs": [
    {
     "data": {
      "text/html": [
       "<div>\n",
       "<style scoped>\n",
       "    .dataframe tbody tr th:only-of-type {\n",
       "        vertical-align: middle;\n",
       "    }\n",
       "\n",
       "    .dataframe tbody tr th {\n",
       "        vertical-align: top;\n",
       "    }\n",
       "\n",
       "    .dataframe thead th {\n",
       "        text-align: right;\n",
       "    }\n",
       "</style>\n",
       "<table border=\"1\" class=\"dataframe\">\n",
       "  <thead>\n",
       "    <tr style=\"text-align: right;\">\n",
       "      <th></th>\n",
       "      <th>0</th>\n",
       "      <th>1</th>\n",
       "      <th>2</th>\n",
       "      <th>3</th>\n",
       "      <th>4</th>\n",
       "      <th>5</th>\n",
       "      <th>6</th>\n",
       "      <th>7</th>\n",
       "      <th>8</th>\n",
       "      <th>9</th>\n",
       "      <th>...</th>\n",
       "      <th>54</th>\n",
       "      <th>55</th>\n",
       "      <th>56</th>\n",
       "      <th>57</th>\n",
       "      <th>58</th>\n",
       "      <th>59</th>\n",
       "      <th>60</th>\n",
       "      <th>61</th>\n",
       "      <th>62</th>\n",
       "      <th>63</th>\n",
       "    </tr>\n",
       "  </thead>\n",
       "  <tbody>\n",
       "    <tr>\n",
       "      <th>0</th>\n",
       "      <td>0.0</td>\n",
       "      <td>0.0</td>\n",
       "      <td>5.0</td>\n",
       "      <td>13.0</td>\n",
       "      <td>9.0</td>\n",
       "      <td>1.0</td>\n",
       "      <td>0.0</td>\n",
       "      <td>0.0</td>\n",
       "      <td>0.0</td>\n",
       "      <td>0.0</td>\n",
       "      <td>...</td>\n",
       "      <td>0.0</td>\n",
       "      <td>0.0</td>\n",
       "      <td>0.0</td>\n",
       "      <td>0.0</td>\n",
       "      <td>6.0</td>\n",
       "      <td>13.0</td>\n",
       "      <td>10.0</td>\n",
       "      <td>0.0</td>\n",
       "      <td>0.0</td>\n",
       "      <td>0.0</td>\n",
       "    </tr>\n",
       "    <tr>\n",
       "      <th>1</th>\n",
       "      <td>0.0</td>\n",
       "      <td>0.0</td>\n",
       "      <td>0.0</td>\n",
       "      <td>12.0</td>\n",
       "      <td>13.0</td>\n",
       "      <td>5.0</td>\n",
       "      <td>0.0</td>\n",
       "      <td>0.0</td>\n",
       "      <td>0.0</td>\n",
       "      <td>0.0</td>\n",
       "      <td>...</td>\n",
       "      <td>0.0</td>\n",
       "      <td>0.0</td>\n",
       "      <td>0.0</td>\n",
       "      <td>0.0</td>\n",
       "      <td>0.0</td>\n",
       "      <td>11.0</td>\n",
       "      <td>16.0</td>\n",
       "      <td>10.0</td>\n",
       "      <td>0.0</td>\n",
       "      <td>0.0</td>\n",
       "    </tr>\n",
       "    <tr>\n",
       "      <th>2</th>\n",
       "      <td>0.0</td>\n",
       "      <td>0.0</td>\n",
       "      <td>0.0</td>\n",
       "      <td>4.0</td>\n",
       "      <td>15.0</td>\n",
       "      <td>12.0</td>\n",
       "      <td>0.0</td>\n",
       "      <td>0.0</td>\n",
       "      <td>0.0</td>\n",
       "      <td>0.0</td>\n",
       "      <td>...</td>\n",
       "      <td>5.0</td>\n",
       "      <td>0.0</td>\n",
       "      <td>0.0</td>\n",
       "      <td>0.0</td>\n",
       "      <td>0.0</td>\n",
       "      <td>3.0</td>\n",
       "      <td>11.0</td>\n",
       "      <td>16.0</td>\n",
       "      <td>9.0</td>\n",
       "      <td>0.0</td>\n",
       "    </tr>\n",
       "  </tbody>\n",
       "</table>\n",
       "<p>3 rows × 64 columns</p>\n",
       "</div>"
      ],
      "text/plain": [
       "    0    1    2     3     4     5    6    7    8    9   ...   54   55   56   \n",
       "0  0.0  0.0  5.0  13.0   9.0   1.0  0.0  0.0  0.0  0.0  ...  0.0  0.0  0.0  \\\n",
       "1  0.0  0.0  0.0  12.0  13.0   5.0  0.0  0.0  0.0  0.0  ...  0.0  0.0  0.0   \n",
       "2  0.0  0.0  0.0   4.0  15.0  12.0  0.0  0.0  0.0  0.0  ...  5.0  0.0  0.0   \n",
       "\n",
       "    57   58    59    60    61   62   63  \n",
       "0  0.0  6.0  13.0  10.0   0.0  0.0  0.0  \n",
       "1  0.0  0.0  11.0  16.0  10.0  0.0  0.0  \n",
       "2  0.0  0.0   3.0  11.0  16.0  9.0  0.0  \n",
       "\n",
       "[3 rows x 64 columns]"
      ]
     },
     "execution_count": 97,
     "metadata": {},
     "output_type": "execute_result"
    }
   ],
   "source": [
    "dataset = load_digits()\n",
    "data = pd.DataFrame(dataset['data'])\n",
    "data.head(3)\n"
   ]
  },
  {
   "cell_type": "code",
   "execution_count": 98,
   "metadata": {},
   "outputs": [
    {
     "data": {
      "text/plain": [
       "(1797,)"
      ]
     },
     "execution_count": 98,
     "metadata": {},
     "output_type": "execute_result"
    }
   ],
   "source": [
    "target = pd.Series(dataset['target'])\n",
    "target.shape\n"
   ]
  },
  {
   "cell_type": "code",
   "execution_count": 99,
   "metadata": {},
   "outputs": [],
   "source": [
    "first_image = data.iloc[0]\n",
    "np_image = first_image.values\n",
    "np_image = np_image.reshape(8,8)"
   ]
  },
  {
   "cell_type": "code",
   "execution_count": 100,
   "metadata": {},
   "outputs": [
    {
     "data": {
      "text/plain": [
       "<matplotlib.image.AxesImage at 0x7f5660e8fc10>"
      ]
     },
     "execution_count": 100,
     "metadata": {},
     "output_type": "execute_result"
    },
    {
     "data": {
      "image/png": "[encoded data removed]",
      "text/plain": [
       "<Figure size 640x480 with 8 Axes>"
      ]
     },
     "metadata": {},
     "output_type": "display_data"
    }
   ],
   "source": [
    "#Generate a scatter plot grid, with 2 rows and 4 columns.\n",
    "fig, ax = plt.subplots(2,4)\n",
    "\n",
    "ax[0,0].imshow(data.iloc[0].values.reshape(8,8))\n",
    "ax[0,1].imshow(data.iloc[100].values.reshape(8,8))\n",
    "ax[0,2].imshow(data.iloc[200].values.reshape(8,8))\n",
    "ax[0,3].imshow(data.iloc[300].values.reshape(8,8))\n",
    "\n",
    "ax[1,0].imshow(data.iloc[1000].values.reshape(8,8))\n",
    "ax[1,1].imshow(data.iloc[1100].values.reshape(8,8))\n",
    "ax[1,2].imshow(data.iloc[1200].values.reshape(8,8))\n",
    "ax[1,3].imshow(data.iloc[1300].values.reshape(8,8))\n"
   ]
  },
  {
   "attachments": {},
   "cell_type": "markdown",
   "metadata": {},
   "source": [
    "# KNN"
   ]
  },
  {
   "cell_type": "code",
   "execution_count": 101,
   "metadata": {},
   "outputs": [],
   "source": [
    "def train(X, y, n):\n",
    "\n",
    "    knn = KNeighborsClassifier(n_neighbors=n)\n",
    "    knn.fit(X, y)\n",
    "\n",
    "    return knn\n"
   ]
  },
  {
   "cell_type": "code",
   "execution_count": 102,
   "metadata": {},
   "outputs": [],
   "source": [
    "def test(model, X_test, y_test):\n",
    "  \n",
    "    score = model.score(X_test, y_test)\n",
    "    return score"
   ]
  },
  {
   "cell_type": "code",
   "execution_count": 103,
   "metadata": {},
   "outputs": [],
   "source": [
    "def cross_validate(features, labels, n, n_folds=4):\n",
    "  \n",
    "    accuracies = []\n",
    "    \n",
    "    kf = KFold(n_splits = n_folds)\n",
    "    \n",
    "    for train_idx, test_idx in kf.split(features):\n",
    "        \n",
    "        # 'X' as features and 'y' as labels\n",
    "        X = features.loc[train_idx]\n",
    "        y = labels.loc[train_idx]\n",
    "        X_test = features.loc[test_idx]\n",
    "        y_test = labels.loc[test_idx]\n",
    "        \n",
    "        # Train and test the model\n",
    "        model = train(X, y, n)\n",
    "        model_score = test(model, X_test, y_test)\n",
    "        \n",
    "        # Save each score for further use\n",
    "        accuracies.append(model_score)\n",
    "        \n",
    "    return accuracies"
   ]
  },
  {
   "cell_type": "code",
   "execution_count": 104,
   "metadata": {},
   "outputs": [
    {
     "name": "stdout",
     "output_type": "stream",
     "text": [
      "[0.9577777777777777, 0.9487750556792873, 0.9732739420935412, 0.9710467706013363] 0.9627183865379857\n"
     ]
    }
   ],
   "source": [
    "scores = cross_validate(data, target, 3)\n",
    "print(scores, np.mean(scores))"
   ]
  },
  {
   "cell_type": "code",
   "execution_count": 105,
   "metadata": {},
   "outputs": [
    {
     "name": "stdout",
     "output_type": "stream",
     "text": [
      "[0.9677233358079684, 0.9627183865379857, 0.9627233358079683, 0.9571591190299431, 0.9527097253155159, 0.9510343974263796, 0.9515949022519178, 0.9482566196486019, 0.9393454590447909]\n"
     ]
    }
   ],
   "source": [
    "avg_scores = []\n",
    "neighbors = [1,3,5,7,10,13,16,20,30]\n",
    "for n in neighbors:\n",
    "    scores = cross_validate(data, target, n)\n",
    "    avg_scores.append(np.mean(scores))\n",
    "\n",
    "print(avg_scores)"
   ]
  },
  {
   "cell_type": "markdown",
   "metadata": {},
   "source": [
    "# MLP"
   ]
  },
  {
   "cell_type": "code",
   "execution_count": 106,
   "metadata": {},
   "outputs": [],
   "source": [
    "# Redefine train(), then we can still use cross_validate()\n",
    "def train(X, y, n=(100,), learning_rate_init=0.001):\n",
    "    \n",
    "    mlp = MLPClassifier(hidden_layer_sizes=n, max_iter=2000, learning_rate_init=0.001)\n",
    "    mlp.fit(X, y)\n",
    "\n",
    "    return mlp"
   ]
  },
  {
   "cell_type": "code",
   "execution_count": 107,
   "metadata": {},
   "outputs": [],
   "source": [
    "def cross_validate(features, labels, n, n_folds=4, learning_rate_init=0.001):\n",
    "  \n",
    "    accuracies = []\n",
    "    \n",
    "    kf = KFold(n_splits = n_folds)\n",
    "    \n",
    "    for train_idx, test_idx in kf.split(features):\n",
    "        \n",
    "        # 'X' as features and 'y' as labels\n",
    "        X = features.loc[train_idx]\n",
    "        y = labels.loc[train_idx]\n",
    "        X_test = features.loc[test_idx]\n",
    "        y_test = labels.loc[test_idx]\n",
    "        \n",
    "        # Train and test the model\n",
    "        model = train(X, y, n, learning_rate_init=learning_rate_init)\n",
    "        model_score = test(model, X_test, y_test)\n",
    "        \n",
    "        # Save each score for later use\n",
    "        accuracies.append(model_score)\n",
    "        \n",
    "    return accuracies"
   ]
  },
  {
   "cell_type": "code",
   "execution_count": 108,
   "metadata": {},
   "outputs": [
    {
     "name": "stdout",
     "output_type": "stream",
     "text": [
      "[0.9266666666666666, 0.8040089086859689, 0.9220489977728286, 0.8797327394209354]\n",
      "0.8831143281365998\n"
     ]
    }
   ],
   "source": [
    "scores = cross_validate(data, target, (10,))\n",
    "print(scores)\n",
    "print(np.mean(scores))"
   ]
  },
  {
   "cell_type": "code",
   "execution_count": 109,
   "metadata": {},
   "outputs": [
    {
     "name": "stdout",
     "output_type": "stream",
     "text": [
      "8 0.8870193021529325\n",
      "16 0.9153971789161099\n",
      "32 0.9315441722345954\n",
      "64 0.9337800049492699\n",
      "128 0.9482417718386538\n",
      "256 0.9571442712199951\n"
     ]
    }
   ],
   "source": [
    "neurons = [8, 16, 32, 64, 128, 256]\n",
    "\n",
    "for n in neurons:\n",
    "    scores = cross_validate(data, target, (n,))\n",
    "    print(n, np.mean(scores))\n",
    "\n"
   ]
  },
  {
   "cell_type": "code",
   "execution_count": 110,
   "metadata": {},
   "outputs": [
    {
     "name": "stdout",
     "output_type": "stream",
     "text": [
      "8 0.8692167780252412\n",
      "16 0.9220885919326899\n",
      "32 0.9354404850284583\n",
      "64 0.9398886414253899\n",
      "128 0.9493603068547389\n",
      "256 0.9582578569660976\n"
     ]
    }
   ],
   "source": [
    "#2 hidden layers\n",
    "for n in neurons:\n",
    "    scores = cross_validate(data, target, (n, n))\n",
    "    print(n, np.mean(scores))"
   ]
  },
  {
   "cell_type": "code",
   "execution_count": 111,
   "metadata": {},
   "outputs": [
    {
     "name": "stdout",
     "output_type": "stream",
     "text": [
      "10 0.914308807134894\n",
      "64 0.9482367149758454\n",
      "128 0.9554905239687849\n"
     ]
    }
   ],
   "source": [
    "#3 hidden layers\n",
    "neurons = [10, 64, 128]\n",
    "n_folds = 6\n",
    "\n",
    "for n in neurons:\n",
    "    scores = cross_validate(data, target, (n, n, n), n_folds=n_folds)\n",
    "    print(n, np.mean(scores))"
   ]
  },
  {
   "cell_type": "code",
   "execution_count": null,
   "metadata": {},
   "outputs": [],
   "source": []
  }
 ],
 "metadata": {
  "kernelspec": {
   "display_name": "Python 3",
   "language": "python",
   "name": "python3"
  },
  "language_info": {
   "codemirror_mode": {
    "name": "ipython",
    "version": 3
   },
   "file_extension": ".py",
   "mimetype": "text/x-python",
   "name": "python",
   "nbconvert_exporter": "python",
   "pygments_lexer": "ipython3",
   "version": "3.10.4"
  },
  "orig_nbformat": 4
 },
 "nbformat": 4,
 "nbformat_minor": 2
}
